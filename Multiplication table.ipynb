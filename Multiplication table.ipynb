{
 "cells": [
  {
   "cell_type": "code",
   "execution_count": 19,
   "metadata": {},
   "outputs": [
    {
     "name": "stdout",
     "output_type": "stream",
     "text": [
      "enter a number to get respective multiplication table5\n",
      "\n",
      "THE MULTIPLICATION TABLE FOR  5 is as belo: \n",
      "___________________________________ \n",
      "\n",
      "5 * 1  =  5\n",
      "5 * 2  =  10\n",
      "5 * 3  =  15\n",
      "5 * 4  =  20\n",
      "5 * 5  =  25\n",
      "5 * 6  =  30\n",
      "5 * 7  =  35\n",
      "5 * 8  =  40\n",
      "5 * 9  =  45\n",
      "5 * 10  =  50\n",
      "___________________________________ "
     ]
    }
   ],
   "source": [
    "#maths table\n",
    "number=int(input(\"enter a number to get respective multiplication table\"))\n",
    "print(\"\\nTHE MULTIPLICATION TABLE FOR \",number,\"is as belo: \")\n",
    "print(\"_\"*35,end=\" \")\n",
    "print(\"\\n\")\n",
    "if(number!=0):\n",
    "    i=1\n",
    "    while(i<=10):\n",
    "        table=number*i\n",
    "        print(number,\"*\",i,\" = \",table)\n",
    "        i+=1\n",
    "print(\"_\"*35,end=\" \")"
   ]
  },
  {
   "cell_type": "code",
   "execution_count": null,
   "metadata": {},
   "outputs": [],
   "source": []
  }
 ],
 "metadata": {
  "kernelspec": {
   "display_name": "Python 3",
   "language": "python",
   "name": "python3"
  },
  "language_info": {
   "codemirror_mode": {
    "name": "ipython",
    "version": 3
   },
   "file_extension": ".py",
   "mimetype": "text/x-python",
   "name": "python",
   "nbconvert_exporter": "python",
   "pygments_lexer": "ipython3",
   "version": "3.8.5"
  }
 },
 "nbformat": 4,
 "nbformat_minor": 4
}
