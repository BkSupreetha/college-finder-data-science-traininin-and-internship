{
 "cells": [
  {
   "cell_type": "code",
   "execution_count": 30,
   "metadata": {},
   "outputs": [
    {
     "name": "stdout",
     "output_type": "stream",
     "text": [
      "ROCK PAPER SCISSOR\n",
      "PLAYER-1\n",
      "Select one from r,p,s[Rock,Paper,Scissor]s\n",
      "PLAYER-2\n",
      "Select one from r,p,s[Rock,Paper,Scissor]p\n",
      "PLAYER-1 WON\n"
     ]
    }
   ],
   "source": [
    "print(\"ROCK PAPER SCISSOR\")\n",
    "\n",
    "#players input\n",
    "player1 = str(input(\"PLAYER-1\\nSelect one from r,p,s[Rock,Paper,Scissor]\"))\n",
    "player2 = str(input(\"PLAYER-2\\nSelect one from r,p,s[Rock,Paper,Scissor]\"))\n",
    "\n",
    "#it's a tie\n",
    "if((player1=='r')and(player2=='r'))or((player1=='p')and(player2=='p'))or((player1=='s')and(player2=='s')):\n",
    "    print(\"IT'S A TIE\")\n",
    "\n",
    "#player-1 won\n",
    "elif((player1=='r')and(player2=='s'))or((player1=='p')and(player2=='r'))or((player1=='s')and(player2=='p')):\n",
    "    print(\"PLAYER-1 WON\")\n",
    "\n",
    "#player-2 won\n",
    "elif((player1=='r')and(player2=='p'))or((player1=='p')and(player2=='s'))or((player1=='s')and(player2=='r')):\n",
    "    print(\"PLAYER-2 WON\")\n",
    "\n",
    "#invalid input\n",
    "\n",
    "else:\n",
    "    print(\"INVALID INPUT\")\n"
   ]
  },
  {
   "cell_type": "code",
   "execution_count": null,
   "metadata": {},
   "outputs": [],
   "source": []
  }
 ],
 "metadata": {
  "kernelspec": {
   "display_name": "Python 3",
   "language": "python",
   "name": "python3"
  },
  "language_info": {
   "codemirror_mode": {
    "name": "ipython",
    "version": 3
   },
   "file_extension": ".py",
   "mimetype": "text/x-python",
   "name": "python",
   "nbconvert_exporter": "python",
   "pygments_lexer": "ipython3",
   "version": "3.8.5"
  }
 },
 "nbformat": 4,
 "nbformat_minor": 4
}
