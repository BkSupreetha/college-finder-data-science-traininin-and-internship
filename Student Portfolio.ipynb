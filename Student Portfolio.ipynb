{
 "cells": [
  {
   "cell_type": "code",
   "execution_count": 29,
   "metadata": {},
   "outputs": [
    {
     "name": "stdout",
     "output_type": "stream",
     "text": [
      "Enter the first student name anvitha\n",
      "Enter the last student name anshu\n",
      "Enter the class 9\n",
      "Enter the division a\n",
      "Enter the Roll Number 12\n",
      "Select any three subjects\n",
      "\n",
      "Subject 1: maths\n",
      "Subject 2: science\n",
      "Subject 3: social\n",
      "Enter the percentage89\n",
      "\n",
      "\n",
      "STUDENT PORTFOLIO :\n",
      "\n",
      "\n",
      "Student name:  ANVITHA ANSHU\n",
      "CLASS :  9\n",
      "DIVISION :  A\n",
      "ROLL NUMBER :  12\n",
      "++++++++++++++++++++\n",
      "Selected subjects are:\n",
      "Subject 1:  maths\n",
      "Subject 2:  science\n",
      "Subject 3:  social\n",
      "\n",
      "PERECNTAGE :  89.0\n",
      "++++++++++++++++++++\n"
     ]
    }
   ],
   "source": [
    "FIRSTNAME = str(input(\"Enter the first student name \"))\n",
    "LASTNAME = str(input(\"Enter the last student name \"))\n",
    "cls = int(input(\"Enter the class \"))     \n",
    "div = str(input(\"Enter the division \"))\n",
    "rolno = int(input(\"Enter the Roll Number \"))\n",
    "print(\"Select any three subjects\\n\")\n",
    "subject1= str(input(\"Subject 1: \"))\n",
    "subject2 = str(input(\"Subject 2: \"))\n",
    "subject3 = str(input(\"Subject 3: \"))\n",
    "percentage = float(input(\"Enter the percentage\")) \n",
    "print('\\n\\nSTUDENT PORTFOLIO :')\n",
    "print(\"\\n\\nStudent name: \", FIRSTNAME.upper()+\" \"+LASTNAME.upper())\n",
    "print(\"CLASS : \", cls)\n",
    "print(\"DIVISION : \",div.upper())\n",
    "print(\"ROLL NUMBER : \",rolno)\n",
    "\n",
    "print(\"+\"*20)\n",
    "print(\"Selected subjects are:\")\n",
    "print(\"Subject 1: \",subject1+\"\\n\" \"Subject 2: \",subject2+\"\\n\"\"Subject 3: \",subject3+\"\\n\")\n",
    "print(\"PERECNTAGE : \",percentage)\n",
    "print(\"+\"*20)"
   ]
  },
  {
   "cell_type": "code",
   "execution_count": null,
   "metadata": {},
   "outputs": [],
   "source": []
  }
 ],
 "metadata": {
  "kernelspec": {
   "display_name": "Python 3",
   "language": "python",
   "name": "python3"
  },
  "language_info": {
   "codemirror_mode": {
    "name": "ipython",
    "version": 3
   },
   "file_extension": ".py",
   "mimetype": "text/x-python",
   "name": "python",
   "nbconvert_exporter": "python",
   "pygments_lexer": "ipython3",
   "version": "3.8.5"
  }
 },
 "nbformat": 4,
 "nbformat_minor": 4
}
